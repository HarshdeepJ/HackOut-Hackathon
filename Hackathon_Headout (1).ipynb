{
  "nbformat": 4,
  "nbformat_minor": 0,
  "metadata": {
    "colab": {
      "private_outputs": true,
      "provenance": [],
      "gpuType": "T4"
    },
    "kernelspec": {
      "name": "python3",
      "display_name": "Python 3"
    },
    "language_info": {
      "name": "python"
    },
    "accelerator": "GPU"
  },
  "cells": [
    {
      "cell_type": "markdown",
      "source": [
        "IMPORTING ALL"
      ],
      "metadata": {
        "id": "CimyNjPzvH2a"
      }
    },
    {
      "cell_type": "code",
      "source": [
        "!pip install google-generativeai"
      ],
      "metadata": {
        "id": "4mTxoE5bytsM"
      },
      "execution_count": null,
      "outputs": []
    },
    {
      "cell_type": "code",
      "source": [
        "!pip install --upgrade diffusers transformers -q\n"
      ],
      "metadata": {
        "id": "vbO0KZYu3nni"
      },
      "execution_count": null,
      "outputs": []
    },
    {
      "cell_type": "code",
      "source": [
        "!pip install pdfminer.six"
      ],
      "metadata": {
        "id": "BVyMvrhWP_ie"
      },
      "execution_count": null,
      "outputs": []
    },
    {
      "cell_type": "code",
      "execution_count": null,
      "metadata": {
        "id": "kPwDNeB-ZLp6"
      },
      "outputs": [],
      "source": [
        "from google.colab import drive\n",
        "drive.mount('/content/gdrive/')\n",
        "import sys\n"
      ]
    },
    {
      "cell_type": "code",
      "source": [
        "cd gdrive/MyDrive/'Colab Notebooks'"
      ],
      "metadata": {
        "id": "NxVUmDOMxMQJ"
      },
      "execution_count": null,
      "outputs": []
    },
    {
      "cell_type": "code",
      "source": [
        "import google.generativeai as palm\n",
        "import os\n"
      ],
      "metadata": {
        "id": "n0qSa1cU2Ad4"
      },
      "execution_count": null,
      "outputs": []
    },
    {
      "cell_type": "code",
      "source": [
        "import Textgenerator"
      ],
      "metadata": {
        "id": "aDNbAuOsb6WP"
      },
      "execution_count": null,
      "outputs": []
    },
    {
      "cell_type": "code",
      "source": [
        "\n",
        "from pdfminer.high_level import extract_text"
      ],
      "metadata": {
        "id": "fmhDy4iNRdZ6"
      },
      "execution_count": null,
      "outputs": []
    },
    {
      "cell_type": "code",
      "source": [
        "from pathlib import Path\n",
        "import tqdm\n",
        "import torch\n",
        "import pandas as pd\n",
        "import numpy as np\n",
        "from diffusers import StableDiffusionPipeline\n",
        "from transformers import pipeline, set_seed\n",
        "import matplotlib.pyplot as plt\n",
        "import matplotlib.pyplot as plt\n",
        "import cv2"
      ],
      "metadata": {
        "id": "k7PQFudI3Lue"
      },
      "execution_count": null,
      "outputs": []
    },
    {
      "cell_type": "markdown",
      "source": [
        "main part"
      ],
      "metadata": {
        "id": "stNJYI7uvLMY"
      }
    },
    {
      "cell_type": "code",
      "source": [
        "from nltk.tokenize import RegexpTokenizer\n",
        "from nltk.probability import FreqDist\n",
        "text = extract_text(r\"/content/gdrive/MyDrive/Lab6___From_Fork_to_Threads__Parallelism_in_Programming.pdf\")"
      ],
      "metadata": {
        "id": "VPwdHc5eQVNr"
      },
      "execution_count": null,
      "outputs": []
    },
    {
      "cell_type": "code",
      "source": [
        "text"
      ],
      "metadata": {
        "id": "7wUYzZ2ygZ8i"
      },
      "execution_count": null,
      "outputs": []
    },
    {
      "cell_type": "code",
      "source": [
        "summary = Textgenerator.summarize(text,palm)\n",
        "Main_title = Textgenerator.title_gen(text,palm)"
      ],
      "metadata": {
        "id": "T-Xt3wOtzOTk"
      },
      "execution_count": null,
      "outputs": []
    },
    {
      "cell_type": "code",
      "source": [
        "summary"
      ],
      "metadata": {
        "id": "hXWUlNOq-a-g"
      },
      "execution_count": null,
      "outputs": []
    },
    {
      "cell_type": "markdown",
      "source": [
        "image"
      ],
      "metadata": {
        "id": "9pritet86HMc"
      }
    },
    {
      "cell_type": "code",
      "source": [
        "import re\n",
        "summary = re.split(r'\\d+\\.\\s',summary)[1:]"
      ],
      "metadata": {
        "id": "5sZp2SHs6M0r"
      },
      "execution_count": null,
      "outputs": []
    },
    {
      "cell_type": "code",
      "source": [
        "summary"
      ],
      "metadata": {
        "id": "VNrj0lYF_qK9"
      },
      "execution_count": null,
      "outputs": []
    },
    {
      "cell_type": "code",
      "source": [
        "important_point = [1,2,3,4,5,6]\n",
        "prompt = [1,2,3,4,5,6]\n",
        "k = 0\n",
        "for i in summary:\n",
        "  important_point[k] = Textgenerator.generate_text(i,palm)\n",
        "  prompt[k] = Textgenerator.prompt_image(i,palm)\n",
        "  k +=1\n",
        "\n"
      ],
      "metadata": {
        "id": "TMbCAnh6_0H_"
      },
      "execution_count": null,
      "outputs": []
    },
    {
      "cell_type": "code",
      "source": [
        "important_points = [important_point[3],important_point[4],important_point[5]]"
      ],
      "metadata": {
        "id": "pNkyIo8TFfOy"
      },
      "execution_count": null,
      "outputs": []
    },
    {
      "cell_type": "code",
      "source": [
        "prompts = [prompt[3],prompt[4],prompt[5]]"
      ],
      "metadata": {
        "id": "lPC8sr5aPhTK"
      },
      "execution_count": null,
      "outputs": []
    },
    {
      "cell_type": "markdown",
      "source": [
        "Image generator part"
      ],
      "metadata": {
        "id": "oUrQgrJZSbfr"
      }
    },
    {
      "cell_type": "code",
      "source": [
        "import text_to_img"
      ],
      "metadata": {
        "id": "AcmnuvTASe95"
      },
      "execution_count": null,
      "outputs": []
    },
    {
      "cell_type": "code",
      "source": [
        "images_stored = [0,0,0]\n",
        "for i in range(len(prompts)):\n",
        "  images_stored[i] = text_to_img.generate_image(prompts[i],text_to_img.image_gen_model)"
      ],
      "metadata": {
        "id": "ZE_vAiWVPjeN"
      },
      "execution_count": null,
      "outputs": []
    },
    {
      "cell_type": "code",
      "source": [
        "images_stored[0]"
      ],
      "metadata": {
        "id": "2Eacctk6TIzP"
      },
      "execution_count": null,
      "outputs": []
    },
    {
      "cell_type": "code",
      "source": [
        "images_stored[1]"
      ],
      "metadata": {
        "id": "WP9WQmZvTYAK"
      },
      "execution_count": null,
      "outputs": []
    },
    {
      "cell_type": "code",
      "source": [
        "type(images_stored[2])"
      ],
      "metadata": {
        "id": "81OLX9zKTcT5"
      },
      "execution_count": null,
      "outputs": []
    },
    {
      "cell_type": "code",
      "source": [
        "from PIL import Image\n",
        "images_stored[0].save('image_stored_0.jpg')\n",
        "images_stored[1].save('image_stored_1.jpg')\n",
        "images_stored[2].save('image_stored_2.jpg')"
      ],
      "metadata": {
        "id": "Z09RGj2lVXi3"
      },
      "execution_count": null,
      "outputs": []
    },
    {
      "cell_type": "code",
      "source": [
        "!pip install docxtpl"
      ],
      "metadata": {
        "id": "Vcp_5rR8UUCg"
      },
      "execution_count": null,
      "outputs": []
    },
    {
      "cell_type": "code",
      "source": [
        "titles = [0,0,0]\n",
        "for i in range(len(summary)-3):\n",
        "  titles[i] = Textgenerator.title_gen(summary[i],palm)"
      ],
      "metadata": {
        "id": "9yzG8fOsVNxf"
      },
      "execution_count": null,
      "outputs": []
    },
    {
      "cell_type": "code",
      "source": [
        "from docxtpl import DocxTemplate\n",
        "tpl = DocxTemplate(\"/content/gdrive/MyDrive/template.docx\")\n",
        "context = {'TITLE':Main_title,\n",
        "            'SUB_H_1':titles[0],\n",
        "            'SUB_H_2':titles[1],\n",
        "            'SUB_H_3':titles[2],\n",
        "            'ins_txt1':important_points[0],\n",
        "            'ins_txt2':important_points[1],\n",
        "            'ins_txt3':important_points[2],\n",
        "           }\n",
        "\n",
        "old_image1 =\"Picture 714051881\"\n",
        "old_image2 = \"Picture 681287327\"\n",
        "old_image3 =\"Picture 779674354\"\n",
        "\n",
        "new_image1 = \"image_stored_0.jpg\"\n",
        "new_image2 = \"image_stored_1.jpg\"\n",
        "new_image3 = \"image_stored_2.jpg\"\n",
        "tpl.replace_pic(old_image1,new_image1)\n",
        "tpl.replace_pic(old_image2,new_image2)\n",
        "tpl.replace_pic(old_image3,new_image3)\n",
        "tpl.render(context)\n",
        "tpl.save(\"Final_template.docx\")"
      ],
      "metadata": {
        "id": "E1GVlmryTeTj"
      },
      "execution_count": null,
      "outputs": []
    },
    {
      "cell_type": "code",
      "source": [],
      "metadata": {
        "id": "2koXFKBgWcCZ"
      },
      "execution_count": null,
      "outputs": []
    }
  ]
}